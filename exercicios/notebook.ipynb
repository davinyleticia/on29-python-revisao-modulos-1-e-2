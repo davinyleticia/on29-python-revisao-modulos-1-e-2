{
 "cells": [
  {
   "cell_type": "markdown",
   "metadata": {},
   "source": [
    "# Aula de revisão módulos 1 e 2 📊\n",
    "\n",
    "- Usaremos na aula este notebook para os exercícios\n",
    "- Slides ilustrativo\n",
    "- Quiz\n",
    "\n",
    "Vamos a aula!!!"
   ]
  },
  {
   "cell_type": "markdown",
   "metadata": {},
   "source": [
    "Vamos criar um jornada, está preparada."
   ]
  },
  {
   "cell_type": "markdown",
   "metadata": {},
   "source": [
    "A primeira etapa desta jornada é entender de onde vamos obter esses dados: por CSV, API ou banco de dados. Feita essa pergunta, partimos para a resposta.\n",
    "\n",
    "No nosso caso, vamos utilizar um arquivo CSV baixado do site:\n",
    "\n",
    "https://dados.mg.gov.br/dataset/bolsas-cotas-concedidas\n",
    "\n",
    "Este arquivo já está na pasta de exercícios para facilitar o trabalho."
   ]
  },
  {
   "cell_type": "markdown",
   "metadata": {},
   "source": [
    "- Nas primeira linhas colocamos as libs que vamos usar\n",
    "![image.png](../assets/image.png)\n",
    "\n",
    "- **Relembrando:** palavra `as` é uma palavra reservada para podemos colocar um apelido, no caso do pandas podemos apenas chamar pd quando queremos usar."
   ]
  },
  {
   "cell_type": "code",
   "execution_count": null,
   "metadata": {},
   "outputs": [],
   "source": [
    "# digita as biblioteca"
   ]
  },
  {
   "cell_type": "markdown",
   "metadata": {},
   "source": [
    "Primeira função que vamos criar é a **Função para abrir o CSV**, ela tera o nosso tratamento de erro ( try e Execpt )"
   ]
  },
  {
   "cell_type": "markdown",
   "metadata": {},
   "source": [
    "O `try` é onde o código vai rodar. Se ocorrer algum erro, ele para a execução no `try` e passa para o bloco `except`, onde você pode colocar um `print` ou um `return`. No nosso projeto, vamos usar `print` em todos os `except` com uma mensagem clara para indicar que o processo falhou."
   ]
  },
  {
   "cell_type": "code",
   "execution_count": null,
   "metadata": {},
   "outputs": [],
   "source": [
    "# o código para abrir o csv"
   ]
  }
 ],
 "metadata": {
  "kernelspec": {
   "display_name": "Python 3",
   "language": "python",
   "name": "python3"
  },
  "language_info": {
   "codemirror_mode": {
    "name": "ipython",
    "version": 3
   },
   "file_extension": ".py",
   "mimetype": "text/x-python",
   "name": "python",
   "nbconvert_exporter": "python",
   "pygments_lexer": "ipython3",
   "version": "3.10.12"
  }
 },
 "nbformat": 4,
 "nbformat_minor": 2
}

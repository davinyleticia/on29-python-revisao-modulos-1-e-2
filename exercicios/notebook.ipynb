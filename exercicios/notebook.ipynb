{
 "cells": [
  {
   "cell_type": "markdown",
   "metadata": {},
   "source": [
    "# Aula de revisão módulos 1 e 2 📊\n",
    "\n",
    "- Usaremos na aula este notebook para os exercícios\n",
    "- Slides ilustrativo\n",
    "- Quiz\n",
    "\n",
    "Vamos a aula!!!"
   ]
  },
  {
   "cell_type": "markdown",
   "metadata": {},
   "source": [
    "Vamos criar um jornada, está preparada."
   ]
  },
  {
   "cell_type": "markdown",
   "metadata": {},
   "source": [
    "A primeira etapa desta jornada é entender de onde vamos obter esses dados: por CSV, API ou banco de dados. Feita essa pergunta, partimos para a resposta.\n",
    "\n",
    "No nosso caso, vamos utilizar um arquivo CSV baixado do site:\n",
    "\n",
    "https://dados.mg.gov.br/dataset/bolsas-cotas-concedidas\n",
    "\n",
    "Este arquivo já está na pasta de exercícios para facilitar o trabalho."
   ]
  },
  {
   "cell_type": "markdown",
   "metadata": {},
   "source": [
    "- Nas primeira linhas colocamos as libs que vamos usar\n",
    "![image.png](../assets/image.png)\n",
    "\n",
    "- **Relembrando:** palavra `as` é uma palavra reservada para podemos colocar um apelido, no caso do pandas podemos apenas chamar pd quando queremos usar."
   ]
  },
  {
   "cell_type": "code",
   "execution_count": null,
   "metadata": {},
   "outputs": [],
   "source": [
    "# digita as biblioteca"
   ]
  },
  {
   "cell_type": "markdown",
   "metadata": {},
   "source": [
    "Primeira função que vamos criar é a **Função para abrir o CSV**, ela terá o nosso tratamento de erro ( try e Execpt )"
   ]
  },
  {
   "cell_type": "markdown",
   "metadata": {},
   "source": [
    "O `try` é onde o código vai rodar. Se ocorrer algum erro, ele para a execução no `try` e passa para o bloco `except`, onde você pode colocar um `print` ou um `return`. No nosso projeto, vamos usar `print` em todos os `except` com uma mensagem clara para indicar que o processo falhou."
   ]
  },
  {
   "cell_type": "markdown",
   "metadata": {},
   "source": [
    "Vamos usar o método do pandas `read_csv` para abrir o arquivo csv `df = pd.read_csv(arquivo)`\n",
    "A função tem que ter o nome `abrir_csv` e recebe um parâmetro `arquivo`"
   ]
  },
  {
   "cell_type": "code",
   "execution_count": null,
   "metadata": {},
   "outputs": [],
   "source": [
    "# O código para abrir o csv"
   ]
  },
  {
   "cell_type": "markdown",
   "metadata": {},
   "source": [
    "Segunda **Função para analisar dados Pandas** o nome da função tem que ser `analisar_dados_padas` e vai receber como parâmetro `df`\n",
    "\n",
    "Não esqueça de usar try e execpt.\n",
    "\n",
    "\n",
    "```python\n",
    "\n",
    "def analisar_dados_pandas(df):\n",
    "    try:\n",
    "    # código da Visão geral do DataFrame\n",
    "    # Estatísticas descritivas para todas as colunas\n",
    "    # Verificar valores nulos\n",
    "    # Frequência dos Programas\n",
    "    # Frequência das Instituições Executoras (Sigla)\n",
    "    # Frequência das Instituições Executoras (Nome)\n",
    "    # Conversão da coluna 'valortotalprevisto' para numérico\n",
    "    # Estatísticas descritivas para 'valor_total_previsto'\n",
    "except Exception as e:\n",
    "        print(f\"Erro na análise dos dados: {e}\")\n",
    "```"
   ]
  },
  {
   "cell_type": "code",
   "execution_count": null,
   "metadata": {},
   "outputs": [],
   "source": [
    "# vamos ao código"
   ]
  },
  {
   "cell_type": "markdown",
   "metadata": {},
   "source": [
    "Agora vamos a função **Função para analisar dados Numpy**  o nome da função tem que ser `analisar_dados_numpy` e vai receber como parâmetro `df`\n",
    "\n",
    "\n",
    "vamos usar `valores = df['valor_total_previsto'].dropna().values` valores da coluna `valor_total_previsto`\n",
    "\n",
    "\n",
    "Para saber mais sobre [*dropna()*](../material/dropna().md)\n",
    "\n",
    "```python\n",
    "\n",
    "def analisar_dados_numpy(df):\n",
    "    try:\n",
    "    # media\n",
    "    # mediana\n",
    "    # desvio_padrao\n",
    "    # variancia\n",
    "    # quartis \n",
    "    # percentil_90\n",
    "except Exception as e:\n",
    "        print(f\"Erro na análise dos dados: {e}\")\n",
    "```"
   ]
  },
  {
   "cell_type": "code",
   "execution_count": null,
   "metadata": {},
   "outputs": [],
   "source": [
    "# vamos ao código"
   ]
  },
  {
   "cell_type": "markdown",
   "metadata": {},
   "source": [
    "🔊 Antes de ir para próximo bloco da nossa jornada, vamos da uma parada para um pequeno texto, uma pessoa da turma lê para outras ouvirem\n",
    "\n",
    "[Explorando Além dos Números: Desenvolvendo Insights através da Visualização de Dados](../material/motivacao.md)"
   ]
  },
  {
   "cell_type": "markdown",
   "metadata": {},
   "source": [
    "Agora estamos na reta final vamos para **Função para visualizar dados** usando matplotlib com o método pyplot, neste projeto renomeamos com nome de `plt`\n",
    "\n",
    "\n",
    "as visualizações são a seguinte que queremos\n",
    "- Distribuição de Bolsas por Ano\n",
    "- Distribuição do Valor Total Previsto das Bolsas\n",
    "- Distribuição das Bolsas por Programa\n",
    "- Valor total previsto por ano\n",
    "Mas sinta-se à vontade para fazer outras visualizações, mas antes pense o que você precisa desde data frame que pode te ajudar o seu cliente.\n"
   ]
  },
  {
   "cell_type": "code",
   "execution_count": null,
   "metadata": {},
   "outputs": [],
   "source": [
    "# vamos ao código"
   ]
  },
  {
   "cell_type": "markdown",
   "metadata": {},
   "source": [
    "Agora o final da nossa jornada guarda no banco sqlite\n",
    "\n",
    "Função para salvar dados no SQLite\n",
    "\n",
    "- nome da função `salvar_no_sqlite`\n",
    "- dois parâmetro df, banco_dados\n",
    "\n",
    "quais parte precisa ter:\n",
    "\n",
    " Conectar ao banco de dados SQLite\n",
    " Salvar o DataFrame em uma tabela específica no SQLite\n",
    " Fechar a conexão com o banco de dados\n",
    " print de sucesso!!!\n",
    "\n",
    " vamos usar  `df.to_sql` para guardar o dataframe, que [saber mais](../material/df-to_sql.md)"
   ]
  },
  {
   "cell_type": "code",
   "execution_count": null,
   "metadata": {},
   "outputs": [],
   "source": [
    "# Executar as funções\n",
    "if __name__ == \"__main__\":\n",
    "    arquivo_csv = 'bolsas-cotas-concedidas.csv'\n",
    "    banco_dados = 'bolsas.db'\n",
    "\n",
    "    df = abrir_csv(arquivo_csv)\n",
    "    \n",
    "    if df is not None:\n",
    "        analisar_dados(df)\n",
    "        visualizar_dados_pandas(df)\n",
    "        visualizar_dados_numpy(df)\n",
    "        salvar_no_sqlite(df, banco_dados)"
   ]
  }
 ],
 "metadata": {
  "kernelspec": {
   "display_name": "Python 3",
   "language": "python",
   "name": "python3"
  },
  "language_info": {
   "codemirror_mode": {
    "name": "ipython",
    "version": 3
   },
   "file_extension": ".py",
   "mimetype": "text/x-python",
   "name": "python",
   "nbconvert_exporter": "python",
   "pygments_lexer": "ipython3",
   "version": "3.10.12"
  }
 },
 "nbformat": 4,
 "nbformat_minor": 2
}
